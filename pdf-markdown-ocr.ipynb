{
  "cells": [
    {
      "cell_type": "code",
      "execution_count": null,
      "metadata": {
        "id": "o7baOflG3tJZ"
      },
      "outputs": [],
      "source": [
        "# Make sure you have the dependencies installed\n",
        "!pip install mistralai jupyter python-dotenv"
      ]
    },
    {
      "cell_type": "code",
      "execution_count": null,
      "metadata": {
        "id": "TbY1s2L73tJc"
      },
      "outputs": [],
      "source": [
        "import json\n",
        "import base64\n",
        "import shutil\n",
        "from pathlib import Path\n",
        "from google.colab import userdata\n",
        "from mistralai import Mistral, DocumentURLChunk\n",
        "from mistralai.models import OCRResponse"
      ]
    },
    {
      "cell_type": "code",
      "execution_count": null,
      "metadata": {
        "id": "UfMEjVgS3tJd"
      },
      "outputs": [],
      "source": [
        "# The only requirement for this script is to have a Mistral API Key.\n",
        "# You can get a free API Key at: https://console.mistral.ai/api-keys\n",
        "# You can put the api key in the .env file (see the README.md for more information)\n",
        "# or you can put it directly in the script below.\n",
        "\n",
        "import os\n",
        "from dotenv import load_dotenv\n",
        "\n",
        "load_dotenv()\n",
        "\n",
        "# Option 1: Load API key from .env file\n",
        "api_key = os.getenv(\"MISTRAL_API_KEY\")\n",
        "\n",
        "# Option 2: Hardcoded API key (fallback)\n",
        "if not api_key:\n",
        "    api_key = \"your-hardcoded-api-key-here\"\n",
        "if api_key == None or \"your-hardcoded-api\" in api_key:\n",
        "  api_key = userdata.get('MISTRAL_API_KEY ')\n",
        "\n",
        "print(f\"Loaded API Key: {api_key[:4]}...\")\n",
        "client = Mistral(api_key=api_key)"
      ]
    },
    {
      "cell_type": "code",
      "execution_count": null,
      "metadata": {
        "id": "nXFMDu953tJd"
      },
      "outputs": [],
      "source": [
        "# Path configuration\n",
        "INPUT_DIR = Path(\"pdfs_to_process\")   # Folder where the user places the PDFs to be processed\n",
        "DONE_DIR = Path(\"pdfs-done\")            # Folder where processed PDFs will be moved\n",
        "OUTPUT_ROOT_DIR = Path(\"ocr_output\")    # Root folder for conversion results\n",
        "\n",
        "# Ensure directories exist\n",
        "INPUT_DIR.mkdir(exist_ok=True)\n",
        "DONE_DIR.mkdir(exist_ok=True)\n",
        "OUTPUT_ROOT_DIR.mkdir(exist_ok=True)"
      ]
    },
    {
      "cell_type": "code",
      "execution_count": null,
      "metadata": {
        "id": "HnjYIFaZ3tJe"
      },
      "outputs": [],
      "source": [
        "def replace_images_in_markdown(markdown_str: str, images_dict: dict) -> str:\n",
        "    \"\"\"\n",
        "    This converts base64 encoded images directly in the markdown...\n",
        "    And replaces them with links to external images, so the markdown is more readable and organized.\n",
        "    \"\"\"\n",
        "    for img_name, base64_str in images_dict.items():\n",
        "        markdown_str = markdown_str.replace(f\"![{img_name}]({img_name})\", f\"![{img_name}]({base64_str})\")\n",
        "    return markdown_str\n",
        "\n",
        "def get_combined_markdown(ocr_response: OCRResponse) -> str:\n",
        "    \"\"\"\n",
        "    Part of the response from the Mistral API, which is an OCRResponse object...\n",
        "    And returns a single string with the combined markdown of all the pages of the PDF.\n",
        "    \"\"\"\n",
        "    markdowns: list[str] = []\n",
        "    for page in ocr_response.pages:\n",
        "        image_data = {}\n",
        "        for img in page.images:\n",
        "            image_data[img.id] = img.image_base64\n",
        "        markdowns.append(replace_images_in_markdown(page.markdown, image_data))\n",
        "\n",
        "    return \"\\n\\n\".join(markdowns)"
      ]
    },
    {
      "cell_type": "code",
      "execution_count": null,
      "metadata": {
        "id": "KxVkqjKg3tJe"
      },
      "outputs": [],
      "source": [
        "def process_pdf(pdf_path: Path):\n",
        "    # Process all PDFs in INPUT_DIR\n",
        "    # - Important to be careful with the number of PDFs, as the Mistral API has a usage limit\n",
        "    #   and it could cause errors by exceeding the limit.\n",
        "\n",
        "    # PDF base name\n",
        "    pdf_base = pdf_path.stem\n",
        "    print(f\"Processing {pdf_path.name} ...\")\n",
        "\n",
        "    # Output folders\n",
        "    output_dir = OUTPUT_ROOT_DIR / pdf_base\n",
        "    output_dir.mkdir(exist_ok=True)\n",
        "    images_dir = output_dir / \"images\"\n",
        "    images_dir.mkdir(exist_ok=True)\n",
        "\n",
        "    # PDF -> OCR\n",
        "    with open(pdf_path, \"rb\") as f:\n",
        "        pdf_bytes = f.read()\n",
        "\n",
        "    uploaded_file = client.files.upload(\n",
        "        file={\n",
        "            \"file_name\": pdf_path.name,\n",
        "            \"content\": pdf_bytes,\n",
        "        },\n",
        "        purpose=\"ocr\"\n",
        "    )\n",
        "\n",
        "    signed_url = client.files.get_signed_url(file_id=uploaded_file.id, expiry=1)\n",
        "\n",
        "    ocr_response = client.ocr.process(\n",
        "        document=DocumentURLChunk(document_url=signed_url.url),\n",
        "        model=\"mistral-ocr-latest\",\n",
        "        include_image_base64=True\n",
        "    )\n",
        "\n",
        "    # Save OCR in JSON\n",
        "    # (in case something fails it could be reused, but it is not used in the rest of the code)\n",
        "    ocr_json_path = output_dir / \"ocr_response.json\"\n",
        "    with open(ocr_json_path, \"w\", encoding=\"utf-8\") as json_file:\n",
        "        json.dump(ocr_response.model_dump(), json_file, indent=4, ensure_ascii=False)\n",
        "    print(f\"OCR response saved in {ocr_json_path}\")\n",
        "\n",
        "    # OCR -> Markdown prepared for Obsidian\n",
        "    # - That is, from base64 encoded images, it converts them to links to\n",
        "    #   external images and generates the images as such, in a subfolder.\n",
        "\n",
        "    global_counter = 1\n",
        "    updated_markdown_pages = []\n",
        "\n",
        "    for page in ocr_response.pages:\n",
        "        updated_markdown = page.markdown\n",
        "        for image_obj in page.images:\n",
        "\n",
        "            # base64 to image\n",
        "            base64_str = image_obj.image_base64\n",
        "            if base64_str.startswith(\"data:\"):\n",
        "                base64_str = base64_str.split(\",\", 1)[1]\n",
        "            image_bytes = base64.b64decode(base64_str)\n",
        "\n",
        "            # image extensions\n",
        "            ext = Path(image_obj.id).suffix if Path(image_obj.id).suffix else \".png\"\n",
        "            new_image_name = f\"{pdf_base}_img_{global_counter}{ext}\"\n",
        "            global_counter += 1\n",
        "\n",
        "            # save in subfolder\n",
        "            image_output_path = images_dir / new_image_name\n",
        "            with open(image_output_path, \"wb\") as f:\n",
        "                f.write(image_bytes)\n",
        "\n",
        "            # Update markdown with wikilink: ![[nombre_imagen]]\n",
        "            updated_markdown = updated_markdown.replace(\n",
        "                f\"![{image_obj.id}]({image_obj.id})\",\n",
        "                f\"![[{new_image_name}]]\"\n",
        "            )\n",
        "        updated_markdown_pages.append(updated_markdown)\n",
        "\n",
        "    final_markdown = \"\\n\\n\".join(updated_markdown_pages)\n",
        "    output_markdown_path = output_dir / \"output.md\"\n",
        "    with open(output_markdown_path, \"w\", encoding=\"utf-8\") as md_file:\n",
        "        md_file.write(final_markdown)\n",
        "    print(f\"Markdown generated in {output_markdown_path}\")"
      ]
    },
    {
      "cell_type": "code",
      "execution_count": null,
      "metadata": {
        "id": "XuZQrnSv3tJe"
      },
      "outputs": [],
      "source": [
        "# Process all PDFs in INPUT_DIR\n",
        "# - Important to be careful with the number of PDFs, as the Mistral API has a usage limit\n",
        "#   and it could cause errors by exceeding the limit.\n",
        "\n",
        "pdf_files = list(INPUT_DIR.glob(\"*.pdf\"))      # Get all PDFs in pdfs_to_process. So make sure to place the PDFs there.\n",
        "if not pdf_files:\n",
        "    response = input(\"No PDFs to process. Pick them manually? y/n: \")\n",
        "    if response.lower() == \"y\":\n",
        "        pdf_files = [Path(input(\"Enter the path to the PDF: \"))]\n",
        "    else:\n",
        "        print(\"Exiting...\")\n",
        "        exit()\n",
        "\n",
        "for pdf_file in pdf_files:\n",
        "    try:\n",
        "        process_pdf(pdf_file)\n",
        "        shutil.move(str(pdf_file), DONE_DIR / pdf_file.name)\n",
        "        print(f\"{pdf_file.name} moved to {DONE_DIR}\")\n",
        "    except Exception as e:\n",
        "        print(f\"Error processing {pdf_file.name}: {e}\")\n"
      ]
    }
  ],
  "metadata": {
    "kernelspec": {
      "display_name": "base",
      "language": "python",
      "name": "python3"
    },
    "language_info": {
      "codemirror_mode": {
        "name": "ipython",
        "version": 3
      },
      "file_extension": ".py",
      "mimetype": "text/x-python",
      "name": "python",
      "nbconvert_exporter": "python",
      "pygments_lexer": "ipython3",
      "version": "3.10.15"
    },
    "colab": {
      "provenance": []
    }
  },
  "nbformat": 4,
  "nbformat_minor": 0
}